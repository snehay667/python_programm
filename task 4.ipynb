{
 "cells": [
  {
   "cell_type": "markdown",
   "id": "26b47605",
   "metadata": {},
   "source": [
    "# String Split and Join"
   ]
  },
  {
   "cell_type": "code",
   "execution_count": 1,
   "id": "15d6ffe7",
   "metadata": {},
   "outputs": [
    {
     "name": "stdout",
     "output_type": "stream",
     "text": [
      "hey all good\n",
      "hey-all-good\n"
     ]
    }
   ],
   "source": [
    "def split_and_join(line):\n",
    "    # Split the line into words\n",
    "    words = line.split()\n",
    "\n",
    "    # Join the words with a hyphen\n",
    "    hyphenated_line = \"-\".join(words)\n",
    "\n",
    "    # Return the hyphenated line\n",
    "    return hyphenated_line\n",
    "\n",
    "if __name__ == '__main__':\n",
    "    line = input()\n",
    "    result = split_and_join(line)\n",
    "    print(result)"
   ]
  },
  {
   "cell_type": "markdown",
   "id": "5e426945",
   "metadata": {},
   "source": [
    "# What's Your Name?"
   ]
  },
  {
   "cell_type": "code",
   "execution_count": 2,
   "id": "d2931f77",
   "metadata": {},
   "outputs": [
    {
     "name": "stdout",
     "output_type": "stream",
     "text": [
      "heloo\n",
      "sdajdguka\n",
      "Hello heloo sdajdguka! You just delved into python.\n"
     ]
    }
   ],
   "source": [
    "def print_full_name(first, last):\n",
    "    # Concatenate the first and last names with a space in between\n",
    "    full_name = first + \" \" + last\n",
    "\n",
    "    # Print the greeting with the full name and the message\n",
    "    print(\"Hello\", full_name + \"!\", \"You just delved into python.\")\n",
    "\n",
    "if __name__ == '__main__':\n",
    "    first_name = input()\n",
    "    last_name = input()\n",
    "    print_full_name(first_name, last_name)"
   ]
  },
  {
   "cell_type": "markdown",
   "id": "7850aeea",
   "metadata": {},
   "source": [
    "# Mutations"
   ]
  },
  {
   "cell_type": "code",
   "execution_count": 3,
   "id": "b392b689",
   "metadata": {},
   "outputs": [
    {
     "name": "stdout",
     "output_type": "stream",
     "text": [
      "abracadabra\n",
      "5 k\n",
      "abrackdabra\n"
     ]
    }
   ],
   "source": [
    "def mutate_string(string, position, character):\n",
    "    # Convert the string to a list of characters\n",
    "    string_list = list(string)\n",
    "\n",
    "    # Replace the character at the given position with the new character\n",
    "    string_list[position] = character\n",
    "\n",
    "    # Convert the list of characters back to a string and return it\n",
    "    return \"\".join(string_list)\n",
    "\n",
    "\n",
    "if __name__ == '__main__':\n",
    "    s = input()\n",
    "    i, c = input().split()\n",
    "    s_new = mutate_string(s, int(i), c)\n",
    "    print(s_new)\n",
    "    "
   ]
  },
  {
   "cell_type": "markdown",
   "id": "4e978497",
   "metadata": {},
   "source": [
    "# Find a string"
   ]
  },
  {
   "cell_type": "code",
   "execution_count": 4,
   "id": "72d8f3df",
   "metadata": {},
   "outputs": [
    {
     "name": "stdout",
     "output_type": "stream",
     "text": [
      "ABCDCDC\n",
      "CDC\n",
      "2\n"
     ]
    }
   ],
   "source": [
    "def count_substring(string, sub_string):\n",
    "    # Initialize a counter for the number of occurrences\n",
    "    count = 0\n",
    "\n",
    "    # Iterate over all possible starting indices of substrings in the string\n",
    "    for i in range(len(string) - len(sub_string) + 1):\n",
    "        # Check if the substring matches the portion of the string starting at this index\n",
    "        if string[i:i+len(sub_string)] == sub_string:\n",
    "            # If it matches, increment the counter\n",
    "            count += 1\n",
    "\n",
    "    # Return the final count\n",
    "    return count\n",
    "\n",
    "if __name__ == '__main__':\n",
    "    string = input().strip()\n",
    "    sub_string = input().strip()\n",
    "    \n",
    "    count = count_substring(string, sub_string)\n",
    "    print(count)"
   ]
  },
  {
   "cell_type": "markdown",
   "id": "e9b0dd93",
   "metadata": {},
   "source": [
    "# String Validators"
   ]
  },
  {
   "cell_type": "code",
   "execution_count": 5,
   "id": "265e33a7",
   "metadata": {},
   "outputs": [
    {
     "name": "stdout",
     "output_type": "stream",
     "text": [
      "qA2\n",
      "True\n",
      "True\n",
      "True\n",
      "True\n",
      "True\n"
     ]
    }
   ],
   "source": [
    "if __name__ == '__main__':\n",
    "    s = input()\n",
    "    \n",
    "    # Check if s has alphanumeric characters\n",
    "    print(any(char.isalnum() for char in s))\n",
    "    \n",
    "    # Check if s has alphabetical characters\n",
    "    print(any(char.isalpha() for char in s))\n",
    "    \n",
    "    # Check if s has digit characters\n",
    "    print(any(char.isdigit() for char in s))\n",
    "    \n",
    "    # Check if s has lowercase characters\n",
    "    print(any(char.islower() for char in s))\n",
    "    \n",
    "    # Check if s has uppercase characters\n",
    "    print(any(char.isupper() for char in s))\n",
    "\n"
   ]
  },
  {
   "cell_type": "markdown",
   "id": "6d83b1c9",
   "metadata": {},
   "source": [
    "# Text Alignment"
   ]
  },
  {
   "cell_type": "code",
   "execution_count": 7,
   "id": "4aae0c07",
   "metadata": {},
   "outputs": [
    {
     "name": "stdout",
     "output_type": "stream",
     "text": [
      "5\n",
      "    H    \n",
      "   HHH   \n",
      "  HHHHH  \n",
      " HHHHHHH \n",
      "HHHHHHHHH\n",
      "  HHHHH               HHHHH             \n",
      "  HHHHH               HHHHH             \n",
      "  HHHHH               HHHHH             \n",
      "  HHHHH               HHHHH             \n",
      "  HHHHH               HHHHH             \n",
      "  HHHHH               HHHHH             \n",
      "  HHHHHHHHHHHHHHHHHHHHHHHHH  \n",
      "  HHHHHHHHHHHHHHHHHHHHHHHHH  \n",
      "  HHHHHHHHHHHHHHHHHHHHHHHHH  \n",
      "  HHHHH               HHHHH             \n",
      "  HHHHH               HHHHH             \n",
      "  HHHHH               HHHHH             \n",
      "  HHHHH               HHHHH             \n",
      "  HHHHH               HHHHH             \n",
      "  HHHHH               HHHHH             \n",
      "                    HHHHHHHHH\n",
      "                     HHHHHHH \n",
      "                      HHHHH  \n",
      "                       HHH   \n",
      "                        H    \n",
      "\n"
     ]
    }
   ],
   "source": [
    "if __name__ == '__main__':\n",
    "    n = int(input())\n",
    "    s = ''\n",
    "    \n",
    "# Top cone\n",
    "\n",
    "for i in range(1,n*2,2):\n",
    "    s = s + (i * 'H').center(n * 2 - 1 , \" \") + '\\n'\n",
    "    \n",
    "# Top Square\n",
    "\n",
    "s1 = (n * 'H').center(n * 2 - 1 , \" \") + (n * 2 + 1) * \" \"\n",
    "\n",
    "for i in range(n + 1):\n",
    "    s = s + (2 * s1) + '\\n'\n",
    "\n",
    "# Middle line\n",
    "\n",
    "s2 = (n * 5 * 'H').center(n * 6 - 1 , \" \")\n",
    "\n",
    "for i in range(0 , n , 2):\n",
    "    s = s + s2 + '\\n'\n",
    "\n",
    "# Bottom square\n",
    "\n",
    "s3 = (n * 'H').center(n * 2 - 1 , \" \") + (n * 2 + 1) * \" \"\n",
    "\n",
    "for i in range(n + 1):\n",
    "    s = s + (2 * s3) + '\\n'\n",
    "\n",
    "# Bottom cone\n",
    "\n",
    "for i in range(n * 2 - 1 , 0 , -2):\n",
    "    s = s + (n * 4) * ' ' + (i * 'H').center(n * 2 - 1) + '\\n'\n",
    "\n",
    "print(s)"
   ]
  },
  {
   "cell_type": "markdown",
   "id": "a2d23edb",
   "metadata": {},
   "source": [
    "# Text Wrap"
   ]
  },
  {
   "cell_type": "code",
   "execution_count": 8,
   "id": "4dcc2e3a",
   "metadata": {},
   "outputs": [
    {
     "name": "stdout",
     "output_type": "stream",
     "text": [
      "ABCDEFGHIJKLIMNOQRSTUVWXYZ\n",
      "4\n",
      "ABCD\n",
      "EFGH\n",
      "IJKL\n",
      "IMNO\n",
      "QRST\n",
      "UVWX\n",
      "YZ\n"
     ]
    }
   ],
   "source": [
    "import textwrap\n",
    "\n",
    "def wrap(string, max_width):\n",
    "    return \"\\n\".join([string[i:i+max_width] for i in range(0, len(string), max_width)])\n",
    "\n",
    "if __name__ == '__main__':\n",
    "    string, max_width = input(), int(input())\n",
    "    result = wrap(string, max_width)\n",
    "    print(result)"
   ]
  },
  {
   "cell_type": "markdown",
   "id": "b06c9c6a",
   "metadata": {},
   "source": [
    "# Designer Door Mat\n"
   ]
  },
  {
   "cell_type": "code",
   "execution_count": 9,
   "id": "4a010c99",
   "metadata": {},
   "outputs": [
    {
     "name": "stdout",
     "output_type": "stream",
     "text": [
      "9 27\n",
      "------------.|.------------\n",
      "---------.|..|..|.---------\n",
      "------.|..|..|..|..|.------\n",
      "---.|..|..|..|..|..|..|.---\n",
      "----------WELCOME----------\n",
      "---.|..|..|..|..|..|..|.---\n",
      "------.|..|..|..|..|.------\n",
      "---------.|..|..|.---------\n",
      "------------.|.------------\n"
     ]
    }
   ],
   "source": [
    "# Enter your code here. Read input from STDIN. Print output to STDOUT\n",
    "N, M = map(int, input().split())\n",
    "\n",
    "# Top half of the pattern\n",
    "for i in range(1, N, 2):\n",
    "    print(('.|.' * i).center(M, '-'))\n",
    "\n",
    "# Middle line with the WELCOME message\n",
    "print('WELCOME'.center(M, '-'))\n",
    "\n",
    "# Bottom half of the pattern\n",
    "for i in range(N-2, -1, -2):\n",
    "    print(('.|.' * i).center(M, '-'))\n"
   ]
  },
  {
   "cell_type": "markdown",
   "id": "3e7dd926",
   "metadata": {},
   "source": [
    "# String Formatting"
   ]
  },
  {
   "cell_type": "code",
   "execution_count": 10,
   "id": "848535fc",
   "metadata": {},
   "outputs": [
    {
     "name": "stdout",
     "output_type": "stream",
     "text": [
      "17\n",
      "    1     1     1     1\n",
      "    2     2     2    10\n",
      "    3     3     3    11\n",
      "    4     4     4   100\n",
      "    5     5     5   101\n",
      "    6     6     6   110\n",
      "    7     7     7   111\n",
      "    8    10     8  1000\n",
      "    9    11     9  1001\n",
      "   10    12     A  1010\n",
      "   11    13     B  1011\n",
      "   12    14     C  1100\n",
      "   13    15     D  1101\n",
      "   14    16     E  1110\n",
      "   15    17     F  1111\n",
      "   16    20    10 10000\n",
      "   17    21    11 10001\n"
     ]
    }
   ],
   "source": [
    "def print_formatted(number):\n",
    "    width = len(bin(number)[2:])\n",
    "    for i in range(1, number+1):\n",
    "        decimal = str(i)\n",
    "        octal = oct(i)[2:]\n",
    "        hexadecimal = (hex(i)[2:]).upper()\n",
    "        binary = bin(i)[2:]\n",
    "        print(decimal.rjust(width), octal.rjust(width), hexadecimal.rjust(width), binary.rjust(width))\n",
    "\n",
    "if __name__ == '__main__':\n",
    "    n = int(input())\n",
    "    print_formatted(n)"
   ]
  },
  {
   "cell_type": "markdown",
   "id": "92177cdd",
   "metadata": {},
   "source": [
    "# Alphabet Rangoli"
   ]
  },
  {
   "cell_type": "code",
   "execution_count": 11,
   "id": "5efb2369",
   "metadata": {},
   "outputs": [
    {
     "name": "stdout",
     "output_type": "stream",
     "text": [
      "5\n",
      "--------e--------\n",
      "------e-d-e------\n",
      "----e-d-c-d-e----\n",
      "--e-d-c-b-c-d-e--\n",
      "e-d-c-b-a-b-c-d-e\n",
      "--e-d-c-b-c-d-e--\n",
      "----e-d-c-d-e----\n",
      "------e-d-e------\n",
      "--------e--------\n"
     ]
    }
   ],
   "source": [
    "def print_rangoli(size):\n",
    "    import string\n",
    "    alpha = string.ascii_lowercase\n",
    "\n",
    "    # create the top half of the rangoli\n",
    "    for i in range(size-1, 0, -1):\n",
    "        row = ['-'] * (size*2-1)\n",
    "        for j in range(0, size-i):\n",
    "            row[size-1-j] = alpha[j+i]\n",
    "            row[size-1+j] = alpha[j+i]\n",
    "        print('-'.join(row))\n",
    "\n",
    "    # create the center row\n",
    "    row = ['-'] * (size*2-1)\n",
    "    for i in range(0, size):\n",
    "        row[size-1-i] = alpha[i]\n",
    "        row[size-1+i] = alpha[i]\n",
    "    print('-'.join(row))\n",
    "\n",
    "    # create the bottom half of the rangoli\n",
    "    for i in range(1, size):\n",
    "        row = ['-'] * (size*2-1)\n",
    "        for j in range(0, size-i):\n",
    "            row[size-1-j] = alpha[j+i]\n",
    "            row[size-1+j] = alpha[j+i]\n",
    "        print('-'.join(row))\n",
    "\n",
    "if __name__ == '__main__':\n",
    "    n = int(input())\n",
    "    print_rangoli(n)"
   ]
  },
  {
   "cell_type": "markdown",
   "id": "671117f1",
   "metadata": {},
   "source": [
    "# Capitalize!"
   ]
  },
  {
   "cell_type": "code",
   "execution_count": 13,
   "id": "b6f28704",
   "metadata": {},
   "outputs": [
    {
     "name": "stdout",
     "output_type": "stream",
     "text": [
      "5\n",
      "--------e--------\n",
      "------e-d-e------\n",
      "----e-d-c-d-e----\n",
      "--e-d-c-b-c-d-e--\n",
      "e-d-c-b-a-b-c-d-e\n",
      "--e-d-c-b-c-d-e--\n",
      "----e-d-c-d-e----\n",
      "------e-d-e------\n",
      "--------e--------\n",
      "\n"
     ]
    }
   ],
   "source": [
    "def print_rangoli(size):\n",
    "    if size == 1:\n",
    "        rangoli = \"a\"\n",
    "        print(rangoli)\n",
    "        return\n",
    "    if size > 26: size = 26\n",
    "    letters = list(reversed(list(map(chr, range(ord('a'), ord('a')+size)))))\n",
    "    max_len = (size * 4) -3\n",
    "    rangoli = str()\n",
    "    for i in range(1, size+1):\n",
    "        rangoli += (\"-\".join(letters[:i]) + \"-\" + \"-\".join(reversed(letters[0:i-1]))).center(max_len, \"-\") + \"\\n\"\n",
    "    for i in range(size-1, 0, -1):\n",
    "        rangoli += (\"-\".join(letters[:i]) + \"-\" + \"-\".join(reversed(letters[0:i-1]))).center(max_len, \"-\") + \"\\n\"\n",
    "    print(rangoli)\n",
    "    return\n",
    "\n",
    "if __name__ == '__main__':\n",
    "    n = int(input())\n",
    "    print_rangoli(n)\n",
    "    "
   ]
  },
  {
   "cell_type": "markdown",
   "id": "9219370d",
   "metadata": {},
   "source": [
    "# The Minion Game"
   ]
  },
  {
   "cell_type": "code",
   "execution_count": 14,
   "id": "d452352c",
   "metadata": {},
   "outputs": [
    {
     "name": "stdout",
     "output_type": "stream",
     "text": [
      "BANANA\n",
      "Stuart 12\n"
     ]
    }
   ],
   "source": [
    "def minion_game(string):\n",
    "    vowels = set(['A', 'E', 'I', 'O', 'U'])\n",
    "    stuart_score, kevin_score = 0, 0\n",
    "    length = len(string)\n",
    "    \n",
    "    for i in range(length):\n",
    "        if string[i] in vowels:\n",
    "            kevin_score += length - i\n",
    "        else:\n",
    "            stuart_score += length - i\n",
    "    \n",
    "    if stuart_score > kevin_score:\n",
    "        print(f\"Stuart {stuart_score}\")\n",
    "    elif kevin_score > stuart_score:\n",
    "        print(f\"Kevin {kevin_score}\")\n",
    "    else:\n",
    "        print(\"Draw\")\n",
    "\n",
    "if __name__ == '__main__':\n",
    "    s = input()\n",
    "    minion_game(s)"
   ]
  },
  {
   "cell_type": "markdown",
   "id": "869dd89a",
   "metadata": {},
   "source": [
    "# Merge the Tools!"
   ]
  },
  {
   "cell_type": "code",
   "execution_count": 16,
   "id": "6d0cd914",
   "metadata": {},
   "outputs": [
    {
     "name": "stdout",
     "output_type": "stream",
     "text": [
      "AABCAAADA\n",
      "3\n",
      "AB\n",
      "CA\n",
      "AD\n"
     ]
    }
   ],
   "source": [
    "def merge_the_tools(string, k):\n",
    "    n = len(string)\n",
    "    # Split the string into k-length substrings\n",
    "    substrings = [string[i:i+k] for i in range(0, n, k)]\n",
    "    # Process each substring\n",
    "    for substring in substrings:\n",
    "        # Create a list to store the characters in the current substring\n",
    "        seen = []\n",
    "        # Iterate over each character in the substring\n",
    "        for c in substring:\n",
    "            # If the character has not been seen before, add it to the seen list and print it\n",
    "            if c not in seen:\n",
    "                seen.append(c)\n",
    "                print(c, end=\"\")\n",
    "        # Print a new line after processing each substring\n",
    "        print()\n",
    "\n",
    "if __name__ == '__main__':\n",
    "    string, k = input(), int(input())\n",
    "    merge_the_tools(string, k)"
   ]
  },
  {
   "cell_type": "markdown",
   "id": "d9e28428",
   "metadata": {},
   "source": [
    "# sWAP cASE"
   ]
  },
  {
   "cell_type": "code",
   "execution_count": 17,
   "id": "eabf819d",
   "metadata": {},
   "outputs": [
    {
     "name": "stdout",
     "output_type": "stream",
     "text": [
      "HackerRank.com presents \"Pythonist 2\".\n",
      "hACKERrANK.COM PRESENTS \"pYTHONIST 2\".\n"
     ]
    }
   ],
   "source": [
    "def swap_case(s):\n",
    "    return s.swapcase()\n",
    "if __name__ == '__main__':\n",
    "    s = input()\n",
    "    result = swap_case(s)\n",
    "    print(result)"
   ]
  },
  {
   "cell_type": "code",
   "execution_count": null,
   "id": "6a70c5ed",
   "metadata": {},
   "outputs": [],
   "source": []
  }
 ],
 "metadata": {
  "kernelspec": {
   "display_name": "Python 3 (ipykernel)",
   "language": "python",
   "name": "python3"
  },
  "language_info": {
   "codemirror_mode": {
    "name": "ipython",
    "version": 3
   },
   "file_extension": ".py",
   "mimetype": "text/x-python",
   "name": "python",
   "nbconvert_exporter": "python",
   "pygments_lexer": "ipython3",
   "version": "3.9.12"
  }
 },
 "nbformat": 4,
 "nbformat_minor": 5
}
