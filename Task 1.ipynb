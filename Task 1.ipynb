{
 "cells": [
  {
   "cell_type": "markdown",
   "id": "e2e4c242",
   "metadata": {},
   "source": [
    "# TASK 1"
   ]
  },
  {
   "cell_type": "markdown",
   "id": "307f9967",
   "metadata": {},
   "source": [
    "SNEHA YADAV \n",
    "Email-: snehay667@gmail.com"
   ]
  },
  {
   "cell_type": "markdown",
   "id": "1a27bdc3",
   "metadata": {},
   "source": [
    "### Say \"Hello, World!\" With  python"
   ]
  },
  {
   "cell_type": "code",
   "execution_count": 5,
   "id": "f9029167",
   "metadata": {},
   "outputs": [
    {
     "name": "stdout",
     "output_type": "stream",
     "text": [
      "Hello, World!\n"
     ]
    }
   ],
   "source": [
    "print(\"Hello, World!\")"
   ]
  },
  {
   "cell_type": "markdown",
   "id": "dd6e48d8",
   "metadata": {},
   "source": [
    "### Arithmetic Operators"
   ]
  },
  {
   "cell_type": "code",
   "execution_count": 6,
   "id": "0342979d",
   "metadata": {},
   "outputs": [
    {
     "name": "stdout",
     "output_type": "stream",
     "text": [
      "2\n",
      "3\n",
      "5\n",
      "-1\n",
      "6\n"
     ]
    }
   ],
   "source": [
    "#The provided code stub reads two integers from STDIN, and . Add code to print three lines where\n",
    "if __name__ == '__main__':\n",
    "\n",
    "    a = int(input())\n",
    "    b = int(input())\n",
    "    \n",
    "    # Print the sum of a and b\n",
    "    print(a + b)\n",
    "    \n",
    "    # Print the difference of a and b\n",
    "    print(a - b)\n",
    "    \n",
    "    # Print the product of a and b\n",
    "    print(a * b)\n"
   ]
  },
  {
   "cell_type": "markdown",
   "id": "f568f35f",
   "metadata": {},
   "source": [
    "### python : Division"
   ]
  },
  {
   "cell_type": "code",
   "execution_count": 7,
   "id": "41f32890",
   "metadata": {},
   "outputs": [
    {
     "name": "stdout",
     "output_type": "stream",
     "text": [
      "8\n",
      "2\n",
      "4\n",
      "4.0\n"
     ]
    }
   ],
   "source": [
    "if __name__ == '__main__':\n",
    "    a = int(input())\n",
    "    b = int(input())\n",
    "\n",
    "    # Print the integer division of a and b\n",
    "    print(a // b)\n",
    "    \n",
    "    # Print the float division of a and b\n",
    "    print(a / b)\n"
   ]
  },
  {
   "cell_type": "markdown",
   "id": "015f5f23",
   "metadata": {},
   "source": [
    "### pyhton If-Else"
   ]
  },
  {
   "cell_type": "code",
   "execution_count": 1,
   "id": "d8d54af8",
   "metadata": {},
   "outputs": [
    {
     "name": "stdout",
     "output_type": "stream",
     "text": [
      "5\n",
      "Weird\n"
     ]
    }
   ],
   "source": [
    "#!/bin/python3\n",
    "n = int(input())\n",
    "\n",
    "if n % 2 == 1:\n",
    "    print(\"Weird\")\n",
    "elif n % 2 == 0 and n in range(2, 6):\n",
    "    print(\"Not Weird\")\n",
    "elif n % 2 == 0 and n in range(6, 21):\n",
    "    print(\"Weird\")\n",
    "elif n % 2 == 0 and n > 20:\n",
    "    print(\"Not Weird\")\n"
   ]
  },
  {
   "cell_type": "markdown",
   "id": "48db524d",
   "metadata": {},
   "source": [
    "### Loops"
   ]
  },
  {
   "cell_type": "code",
   "execution_count": 2,
   "id": "3a724ded",
   "metadata": {},
   "outputs": [
    {
     "name": "stdout",
     "output_type": "stream",
     "text": [
      "4\n",
      "0\n",
      "1\n",
      "4\n",
      "9\n"
     ]
    }
   ],
   "source": [
    "#The provided code stub reads and integer, n , from STDIN. For all non-negative integers i<n , print i^2 \n",
    "\n",
    "if __name__ == '__main__':\n",
    "    n = int(input())\n",
    "\n",
    "    # Print the square of each non-negative integer less than n\n",
    "    for i in range(n):\n",
    "        print(i*i)\n"
   ]
  },
  {
   "cell_type": "markdown",
   "id": "46287eab",
   "metadata": {},
   "source": [
    "### Write a Function"
   ]
  },
  {
   "cell_type": "code",
   "execution_count": 3,
   "id": "eddddeec",
   "metadata": {},
   "outputs": [
    {
     "name": "stdout",
     "output_type": "stream",
     "text": [
      "1996\n",
      "True\n"
     ]
    }
   ],
   "source": [
    "#Given a year, determine whether it is a leap year. If it is a leap year, return the Boolean True, otherwise return False\n",
    "\n",
    "def is_leap(year):\n",
    "    leap = False\n",
    "    \n",
    "    # Write your logic here\n",
    "    if year % 4 == 0 and (year % 100 != 0 or year % 400 == 0):\n",
    "        leap = True\n",
    "        \n",
    "    return leap\n",
    "\n",
    "year = int(input())\n",
    "print(is_leap(year))"
   ]
  },
  {
   "cell_type": "markdown",
   "id": "1ef9aa64",
   "metadata": {},
   "source": [
    "### Print Function "
   ]
  },
  {
   "cell_type": "code",
   "execution_count": 4,
   "id": "ee724124",
   "metadata": {},
   "outputs": [
    {
     "name": "stdout",
     "output_type": "stream",
     "text": [
      "34\n",
      "12345678910111213141516171819202122232425262728293031323334\n"
     ]
    }
   ],
   "source": [
    "#The included code stub will read an integer, n , from STDIN.\n",
    "if __name__ == '__main__':\n",
    "    n = int(input().strip())\n",
    "    for i in range(1, n+1):\n",
    "        print(i, end=\"\")\n",
    "    print()\n",
    "\n"
   ]
  },
  {
   "cell_type": "code",
   "execution_count": null,
   "id": "3bcc2a8b",
   "metadata": {},
   "outputs": [],
   "source": []
  }
 ],
 "metadata": {
  "kernelspec": {
   "display_name": "Python 3 (ipykernel)",
   "language": "python",
   "name": "python3"
  },
  "language_info": {
   "codemirror_mode": {
    "name": "ipython",
    "version": 3
   },
   "file_extension": ".py",
   "mimetype": "text/x-python",
   "name": "python",
   "nbconvert_exporter": "python",
   "pygments_lexer": "ipython3",
   "version": "3.9.12"
  }
 },
 "nbformat": 4,
 "nbformat_minor": 5
}
